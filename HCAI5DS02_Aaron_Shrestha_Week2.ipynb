{
  "nbformat": 4,
  "nbformat_minor": 0,
  "metadata": {
    "colab": {
      "provenance": []
    },
    "kernelspec": {
      "name": "python3",
      "display_name": "Python 3"
    },
    "language_info": {
      "name": "python"
    }
  },
  "cells": [
    {
      "cell_type": "code",
      "execution_count": 3,
      "metadata": {
        "colab": {
          "base_uri": "https://localhost:8080/",
          "height": 244
        },
        "id": "XULt7Hwsgn8K",
        "outputId": "83e618f8-c1f1-4311-edea-b3874e4c4c48"
      },
      "outputs": [
        {
          "output_type": "stream",
          "name": "stdout",
          "text": [
            "Drive already mounted at /content/drive; to attempt to forcibly remount, call drive.mount(\"/content/drive\", force_remount=True).\n"
          ]
        },
        {
          "output_type": "execute_result",
          "data": {
            "text/plain": [
              "  review_id product_category  rating  review_length  helpful_votes  Defective  \\\n",
              "0     R0000             Home       5            127              7          0   \n",
              "1     R0001            Books       4            118              7          1   \n",
              "2     R0002             Home       5            113              5          0   \n",
              "3     R0003            Books       4            126              3          0   \n",
              "4     R0004             Home       5            119              4          0   \n",
              "\n",
              "   HighReturn  HasComplaint  VerifiedPurchase  ReviewRating  \n",
              "0           1         False             False             5  \n",
              "1           0         False              True             4  \n",
              "2           1         False              True             5  \n",
              "3           0         False              True             4  \n",
              "4           0          True             False             5  "
            ],
            "text/html": [
              "\n",
              "  <div id=\"df-9bbdac40-9a2b-4383-a9ef-69cbe7cc775b\" class=\"colab-df-container\">\n",
              "    <div>\n",
              "<style scoped>\n",
              "    .dataframe tbody tr th:only-of-type {\n",
              "        vertical-align: middle;\n",
              "    }\n",
              "\n",
              "    .dataframe tbody tr th {\n",
              "        vertical-align: top;\n",
              "    }\n",
              "\n",
              "    .dataframe thead th {\n",
              "        text-align: right;\n",
              "    }\n",
              "</style>\n",
              "<table border=\"1\" class=\"dataframe\">\n",
              "  <thead>\n",
              "    <tr style=\"text-align: right;\">\n",
              "      <th></th>\n",
              "      <th>review_id</th>\n",
              "      <th>product_category</th>\n",
              "      <th>rating</th>\n",
              "      <th>review_length</th>\n",
              "      <th>helpful_votes</th>\n",
              "      <th>Defective</th>\n",
              "      <th>HighReturn</th>\n",
              "      <th>HasComplaint</th>\n",
              "      <th>VerifiedPurchase</th>\n",
              "      <th>ReviewRating</th>\n",
              "    </tr>\n",
              "  </thead>\n",
              "  <tbody>\n",
              "    <tr>\n",
              "      <th>0</th>\n",
              "      <td>R0000</td>\n",
              "      <td>Home</td>\n",
              "      <td>5</td>\n",
              "      <td>127</td>\n",
              "      <td>7</td>\n",
              "      <td>0</td>\n",
              "      <td>1</td>\n",
              "      <td>False</td>\n",
              "      <td>False</td>\n",
              "      <td>5</td>\n",
              "    </tr>\n",
              "    <tr>\n",
              "      <th>1</th>\n",
              "      <td>R0001</td>\n",
              "      <td>Books</td>\n",
              "      <td>4</td>\n",
              "      <td>118</td>\n",
              "      <td>7</td>\n",
              "      <td>1</td>\n",
              "      <td>0</td>\n",
              "      <td>False</td>\n",
              "      <td>True</td>\n",
              "      <td>4</td>\n",
              "    </tr>\n",
              "    <tr>\n",
              "      <th>2</th>\n",
              "      <td>R0002</td>\n",
              "      <td>Home</td>\n",
              "      <td>5</td>\n",
              "      <td>113</td>\n",
              "      <td>5</td>\n",
              "      <td>0</td>\n",
              "      <td>1</td>\n",
              "      <td>False</td>\n",
              "      <td>True</td>\n",
              "      <td>5</td>\n",
              "    </tr>\n",
              "    <tr>\n",
              "      <th>3</th>\n",
              "      <td>R0003</td>\n",
              "      <td>Books</td>\n",
              "      <td>4</td>\n",
              "      <td>126</td>\n",
              "      <td>3</td>\n",
              "      <td>0</td>\n",
              "      <td>0</td>\n",
              "      <td>False</td>\n",
              "      <td>True</td>\n",
              "      <td>4</td>\n",
              "    </tr>\n",
              "    <tr>\n",
              "      <th>4</th>\n",
              "      <td>R0004</td>\n",
              "      <td>Home</td>\n",
              "      <td>5</td>\n",
              "      <td>119</td>\n",
              "      <td>4</td>\n",
              "      <td>0</td>\n",
              "      <td>0</td>\n",
              "      <td>True</td>\n",
              "      <td>False</td>\n",
              "      <td>5</td>\n",
              "    </tr>\n",
              "  </tbody>\n",
              "</table>\n",
              "</div>\n",
              "    <div class=\"colab-df-buttons\">\n",
              "\n",
              "  <div class=\"colab-df-container\">\n",
              "    <button class=\"colab-df-convert\" onclick=\"convertToInteractive('df-9bbdac40-9a2b-4383-a9ef-69cbe7cc775b')\"\n",
              "            title=\"Convert this dataframe to an interactive table.\"\n",
              "            style=\"display:none;\">\n",
              "\n",
              "  <svg xmlns=\"http://www.w3.org/2000/svg\" height=\"24px\" viewBox=\"0 -960 960 960\">\n",
              "    <path d=\"M120-120v-720h720v720H120Zm60-500h600v-160H180v160Zm220 220h160v-160H400v160Zm0 220h160v-160H400v160ZM180-400h160v-160H180v160Zm440 0h160v-160H620v160ZM180-180h160v-160H180v160Zm440 0h160v-160H620v160Z\"/>\n",
              "  </svg>\n",
              "    </button>\n",
              "\n",
              "  <style>\n",
              "    .colab-df-container {\n",
              "      display:flex;\n",
              "      gap: 12px;\n",
              "    }\n",
              "\n",
              "    .colab-df-convert {\n",
              "      background-color: #E8F0FE;\n",
              "      border: none;\n",
              "      border-radius: 50%;\n",
              "      cursor: pointer;\n",
              "      display: none;\n",
              "      fill: #1967D2;\n",
              "      height: 32px;\n",
              "      padding: 0 0 0 0;\n",
              "      width: 32px;\n",
              "    }\n",
              "\n",
              "    .colab-df-convert:hover {\n",
              "      background-color: #E2EBFA;\n",
              "      box-shadow: 0px 1px 2px rgba(60, 64, 67, 0.3), 0px 1px 3px 1px rgba(60, 64, 67, 0.15);\n",
              "      fill: #174EA6;\n",
              "    }\n",
              "\n",
              "    .colab-df-buttons div {\n",
              "      margin-bottom: 4px;\n",
              "    }\n",
              "\n",
              "    [theme=dark] .colab-df-convert {\n",
              "      background-color: #3B4455;\n",
              "      fill: #D2E3FC;\n",
              "    }\n",
              "\n",
              "    [theme=dark] .colab-df-convert:hover {\n",
              "      background-color: #434B5C;\n",
              "      box-shadow: 0px 1px 3px 1px rgba(0, 0, 0, 0.15);\n",
              "      filter: drop-shadow(0px 1px 2px rgba(0, 0, 0, 0.3));\n",
              "      fill: #FFFFFF;\n",
              "    }\n",
              "  </style>\n",
              "\n",
              "    <script>\n",
              "      const buttonEl =\n",
              "        document.querySelector('#df-9bbdac40-9a2b-4383-a9ef-69cbe7cc775b button.colab-df-convert');\n",
              "      buttonEl.style.display =\n",
              "        google.colab.kernel.accessAllowed ? 'block' : 'none';\n",
              "\n",
              "      async function convertToInteractive(key) {\n",
              "        const element = document.querySelector('#df-9bbdac40-9a2b-4383-a9ef-69cbe7cc775b');\n",
              "        const dataTable =\n",
              "          await google.colab.kernel.invokeFunction('convertToInteractive',\n",
              "                                                    [key], {});\n",
              "        if (!dataTable) return;\n",
              "\n",
              "        const docLinkHtml = 'Like what you see? Visit the ' +\n",
              "          '<a target=\"_blank\" href=https://colab.research.google.com/notebooks/data_table.ipynb>data table notebook</a>'\n",
              "          + ' to learn more about interactive tables.';\n",
              "        element.innerHTML = '';\n",
              "        dataTable['output_type'] = 'display_data';\n",
              "        await google.colab.output.renderOutput(dataTable, element);\n",
              "        const docLink = document.createElement('div');\n",
              "        docLink.innerHTML = docLinkHtml;\n",
              "        element.appendChild(docLink);\n",
              "      }\n",
              "    </script>\n",
              "  </div>\n",
              "\n",
              "\n",
              "    <div id=\"df-77d72a53-6e31-4963-98ca-7cd76e620dc1\">\n",
              "      <button class=\"colab-df-quickchart\" onclick=\"quickchart('df-77d72a53-6e31-4963-98ca-7cd76e620dc1')\"\n",
              "                title=\"Suggest charts\"\n",
              "                style=\"display:none;\">\n",
              "\n",
              "<svg xmlns=\"http://www.w3.org/2000/svg\" height=\"24px\"viewBox=\"0 0 24 24\"\n",
              "     width=\"24px\">\n",
              "    <g>\n",
              "        <path d=\"M19 3H5c-1.1 0-2 .9-2 2v14c0 1.1.9 2 2 2h14c1.1 0 2-.9 2-2V5c0-1.1-.9-2-2-2zM9 17H7v-7h2v7zm4 0h-2V7h2v10zm4 0h-2v-4h2v4z\"/>\n",
              "    </g>\n",
              "</svg>\n",
              "      </button>\n",
              "\n",
              "<style>\n",
              "  .colab-df-quickchart {\n",
              "      --bg-color: #E8F0FE;\n",
              "      --fill-color: #1967D2;\n",
              "      --hover-bg-color: #E2EBFA;\n",
              "      --hover-fill-color: #174EA6;\n",
              "      --disabled-fill-color: #AAA;\n",
              "      --disabled-bg-color: #DDD;\n",
              "  }\n",
              "\n",
              "  [theme=dark] .colab-df-quickchart {\n",
              "      --bg-color: #3B4455;\n",
              "      --fill-color: #D2E3FC;\n",
              "      --hover-bg-color: #434B5C;\n",
              "      --hover-fill-color: #FFFFFF;\n",
              "      --disabled-bg-color: #3B4455;\n",
              "      --disabled-fill-color: #666;\n",
              "  }\n",
              "\n",
              "  .colab-df-quickchart {\n",
              "    background-color: var(--bg-color);\n",
              "    border: none;\n",
              "    border-radius: 50%;\n",
              "    cursor: pointer;\n",
              "    display: none;\n",
              "    fill: var(--fill-color);\n",
              "    height: 32px;\n",
              "    padding: 0;\n",
              "    width: 32px;\n",
              "  }\n",
              "\n",
              "  .colab-df-quickchart:hover {\n",
              "    background-color: var(--hover-bg-color);\n",
              "    box-shadow: 0 1px 2px rgba(60, 64, 67, 0.3), 0 1px 3px 1px rgba(60, 64, 67, 0.15);\n",
              "    fill: var(--button-hover-fill-color);\n",
              "  }\n",
              "\n",
              "  .colab-df-quickchart-complete:disabled,\n",
              "  .colab-df-quickchart-complete:disabled:hover {\n",
              "    background-color: var(--disabled-bg-color);\n",
              "    fill: var(--disabled-fill-color);\n",
              "    box-shadow: none;\n",
              "  }\n",
              "\n",
              "  .colab-df-spinner {\n",
              "    border: 2px solid var(--fill-color);\n",
              "    border-color: transparent;\n",
              "    border-bottom-color: var(--fill-color);\n",
              "    animation:\n",
              "      spin 1s steps(1) infinite;\n",
              "  }\n",
              "\n",
              "  @keyframes spin {\n",
              "    0% {\n",
              "      border-color: transparent;\n",
              "      border-bottom-color: var(--fill-color);\n",
              "      border-left-color: var(--fill-color);\n",
              "    }\n",
              "    20% {\n",
              "      border-color: transparent;\n",
              "      border-left-color: var(--fill-color);\n",
              "      border-top-color: var(--fill-color);\n",
              "    }\n",
              "    30% {\n",
              "      border-color: transparent;\n",
              "      border-left-color: var(--fill-color);\n",
              "      border-top-color: var(--fill-color);\n",
              "      border-right-color: var(--fill-color);\n",
              "    }\n",
              "    40% {\n",
              "      border-color: transparent;\n",
              "      border-right-color: var(--fill-color);\n",
              "      border-top-color: var(--fill-color);\n",
              "    }\n",
              "    60% {\n",
              "      border-color: transparent;\n",
              "      border-right-color: var(--fill-color);\n",
              "    }\n",
              "    80% {\n",
              "      border-color: transparent;\n",
              "      border-right-color: var(--fill-color);\n",
              "      border-bottom-color: var(--fill-color);\n",
              "    }\n",
              "    90% {\n",
              "      border-color: transparent;\n",
              "      border-bottom-color: var(--fill-color);\n",
              "    }\n",
              "  }\n",
              "</style>\n",
              "\n",
              "      <script>\n",
              "        async function quickchart(key) {\n",
              "          const quickchartButtonEl =\n",
              "            document.querySelector('#' + key + ' button');\n",
              "          quickchartButtonEl.disabled = true;  // To prevent multiple clicks.\n",
              "          quickchartButtonEl.classList.add('colab-df-spinner');\n",
              "          try {\n",
              "            const charts = await google.colab.kernel.invokeFunction(\n",
              "                'suggestCharts', [key], {});\n",
              "          } catch (error) {\n",
              "            console.error('Error during call to suggestCharts:', error);\n",
              "          }\n",
              "          quickchartButtonEl.classList.remove('colab-df-spinner');\n",
              "          quickchartButtonEl.classList.add('colab-df-quickchart-complete');\n",
              "        }\n",
              "        (() => {\n",
              "          let quickchartButtonEl =\n",
              "            document.querySelector('#df-77d72a53-6e31-4963-98ca-7cd76e620dc1 button');\n",
              "          quickchartButtonEl.style.display =\n",
              "            google.colab.kernel.accessAllowed ? 'block' : 'none';\n",
              "        })();\n",
              "      </script>\n",
              "    </div>\n",
              "\n",
              "    </div>\n",
              "  </div>\n"
            ],
            "application/vnd.google.colaboratory.intrinsic+json": {
              "type": "dataframe",
              "variable_name": "df_modified",
              "summary": "{\n  \"name\": \"df_modified\",\n  \"rows\": 50,\n  \"fields\": [\n    {\n      \"column\": \"review_id\",\n      \"properties\": {\n        \"dtype\": \"string\",\n        \"num_unique_values\": 50,\n        \"samples\": [\n          \"R0013\",\n          \"R0039\",\n          \"R0030\"\n        ],\n        \"semantic_type\": \"\",\n        \"description\": \"\"\n      }\n    },\n    {\n      \"column\": \"product_category\",\n      \"properties\": {\n        \"dtype\": \"category\",\n        \"num_unique_values\": 4,\n        \"samples\": [\n          \"Books\",\n          \"Clothing\",\n          \"Home\"\n        ],\n        \"semantic_type\": \"\",\n        \"description\": \"\"\n      }\n    },\n    {\n      \"column\": \"rating\",\n      \"properties\": {\n        \"dtype\": \"number\",\n        \"std\": 1,\n        \"min\": 1,\n        \"max\": 5,\n        \"num_unique_values\": 5,\n        \"samples\": [\n          4,\n          3,\n          2\n        ],\n        \"semantic_type\": \"\",\n        \"description\": \"\"\n      }\n    },\n    {\n      \"column\": \"review_length\",\n      \"properties\": {\n        \"dtype\": \"number\",\n        \"std\": 10,\n        \"min\": 96,\n        \"max\": 141,\n        \"num_unique_values\": 26,\n        \"samples\": [\n          121,\n          139,\n          127\n        ],\n        \"semantic_type\": \"\",\n        \"description\": \"\"\n      }\n    },\n    {\n      \"column\": \"helpful_votes\",\n      \"properties\": {\n        \"dtype\": \"number\",\n        \"std\": 2,\n        \"min\": 0,\n        \"max\": 10,\n        \"num_unique_values\": 11,\n        \"samples\": [\n          8,\n          7,\n          0\n        ],\n        \"semantic_type\": \"\",\n        \"description\": \"\"\n      }\n    },\n    {\n      \"column\": \"Defective\",\n      \"properties\": {\n        \"dtype\": \"number\",\n        \"std\": 0,\n        \"min\": 0,\n        \"max\": 1,\n        \"num_unique_values\": 2,\n        \"samples\": [\n          1,\n          0\n        ],\n        \"semantic_type\": \"\",\n        \"description\": \"\"\n      }\n    },\n    {\n      \"column\": \"HighReturn\",\n      \"properties\": {\n        \"dtype\": \"number\",\n        \"std\": 0,\n        \"min\": 0,\n        \"max\": 1,\n        \"num_unique_values\": 2,\n        \"samples\": [\n          0,\n          1\n        ],\n        \"semantic_type\": \"\",\n        \"description\": \"\"\n      }\n    },\n    {\n      \"column\": \"HasComplaint\",\n      \"properties\": {\n        \"dtype\": \"boolean\",\n        \"num_unique_values\": 2,\n        \"samples\": [\n          true,\n          false\n        ],\n        \"semantic_type\": \"\",\n        \"description\": \"\"\n      }\n    },\n    {\n      \"column\": \"VerifiedPurchase\",\n      \"properties\": {\n        \"dtype\": \"boolean\",\n        \"num_unique_values\": 2,\n        \"samples\": [\n          true,\n          false\n        ],\n        \"semantic_type\": \"\",\n        \"description\": \"\"\n      }\n    },\n    {\n      \"column\": \"ReviewRating\",\n      \"properties\": {\n        \"dtype\": \"number\",\n        \"std\": 1,\n        \"min\": 1,\n        \"max\": 5,\n        \"num_unique_values\": 5,\n        \"samples\": [\n          4,\n          3\n        ],\n        \"semantic_type\": \"\",\n        \"description\": \"\"\n      }\n    }\n  ]\n}"
            }
          },
          "metadata": {},
          "execution_count": 3
        }
      ],
      "source": [
        "import pandas as pd\n",
        "import numpy as np\n",
        "\n",
        "# Mount Google Drive\n",
        "from google.colab import drive\n",
        "drive.mount('/content/drive')\n",
        "\n",
        "# Load the CSV file\n",
        "df_reviews = pd.read_csv('/content/drive/MyDrive/product_reviews.csv')\n",
        "\n",
        "# Copy original dataframe to preserve it\n",
        "df_modified = df_reviews.copy()\n",
        "\n",
        "# Add required columns based on reasonable probabilities\n",
        "np.random.seed(42)  # For reproducibility\n",
        "n = len(df_modified)\n",
        "\n",
        "# Add simulated columns\n",
        "df_modified['Defective'] = np.random.choice([0, 1], size=n, p=[0.95, 0.05])\n",
        "df_modified['HighReturn'] = np.random.choice([0, 1], size=n, p=[0.9, 0.1])\n",
        "df_modified['HasComplaint'] = np.random.choice([False, True], size=n, p=[0.8, 0.2])\n",
        "df_modified['VerifiedPurchase'] = np.random.choice([True, False], size=n, p=[0.8, 0.2])\n",
        "df_modified['ReviewRating'] = df_modified['rating']  # Copy from original\n",
        "\n",
        "# Preview modified dataframe\n",
        "df_modified.head()"
      ]
    },
    {
      "cell_type": "code",
      "source": [
        "#Exploratory Analysis\n",
        "\n",
        "# 1. Prior probability that a product is defective\n",
        "P_defective = df_modified['Defective'].mean()\n",
        "print(f\"Prior Probability P(Defective): {P_defective:.4f}\")\n"
      ],
      "metadata": {
        "colab": {
          "base_uri": "https://localhost:8080/"
        },
        "id": "dxiYlQRZhCNn",
        "outputId": "4401269c-6ffa-41f1-9d3e-aa48580d1021"
      },
      "execution_count": 4,
      "outputs": [
        {
          "output_type": "stream",
          "name": "stdout",
          "text": [
            "Prior Probability P(Defective): 0.0600\n"
          ]
        }
      ]
    },
    {
      "cell_type": "code",
      "source": [
        "# 2. Compare average review rating for defective vs. non-defective products\n",
        "avg_rating_defective = df_modified[df_modified['Defective'] == 1]['ReviewRating'].mean()\n",
        "avg_rating_non_defective = df_modified[df_modified['Defective'] == 0]['ReviewRating'].mean()\n",
        "print(f\"Average Rating (Defective): {avg_rating_defective:.2f}\")\n",
        "print(f\"Average Rating (Non-Defective): {avg_rating_non_defective:.2f}\")"
      ],
      "metadata": {
        "colab": {
          "base_uri": "https://localhost:8080/"
        },
        "id": "wCTF2kKeh0Ee",
        "outputId": "6c970819-6019-4288-9b02-d76d6a419f46"
      },
      "execution_count": 5,
      "outputs": [
        {
          "output_type": "stream",
          "name": "stdout",
          "text": [
            "Average Rating (Defective): 4.33\n",
            "Average Rating (Non-Defective): 3.72\n"
          ]
        }
      ]
    },
    {
      "cell_type": "code",
      "source": [
        "# 3. Return rate for defective and non-defective products\n",
        "P_high_return_given_defective = df_modified[df_modified['Defective'] == 1]['HighReturn'].mean()\n",
        "P_high_return_given_non_defective = df_modified[df_modified['Defective'] == 0]['HighReturn'].mean()\n",
        "print(f\"Return Rate (Defective): {P_high_return_given_defective:.4f}\")\n",
        "print(f\"Return Rate (Non-Defective): {P_high_return_given_non_defective:.4f}\")"
      ],
      "metadata": {
        "colab": {
          "base_uri": "https://localhost:8080/"
        },
        "id": "EK5xidiah4jc",
        "outputId": "fe150fec-4b8b-4ba1-b6d2-8a7d371d30bb"
      },
      "execution_count": 6,
      "outputs": [
        {
          "output_type": "stream",
          "name": "stdout",
          "text": [
            "Return Rate (Defective): 0.0000\n",
            "Return Rate (Non-Defective): 0.0851\n"
          ]
        }
      ]
    },
    {
      "cell_type": "code",
      "source": [
        "#2. Bayesian Inference\n",
        "\n",
        "# P(HighReturn)\n",
        "P_high_return = df_modified['HighReturn'].mean()"
      ],
      "metadata": {
        "id": "s8PEaCQdh4yu"
      },
      "execution_count": 7,
      "outputs": []
    },
    {
      "cell_type": "code",
      "source": [
        "# Posterior probability: P(Defective | HighReturn)\n",
        "posterior = (P_high_return_given_defective * P_defective) / P_high_return\n",
        "print(f\"Posterior P(Defective | HighReturn): {posterior:.4f}\")"
      ],
      "metadata": {
        "colab": {
          "base_uri": "https://localhost:8080/"
        },
        "id": "cRep8nA-h48l",
        "outputId": "27d88c63-6e06-4eb3-a647-0653773fa1dc"
      },
      "execution_count": 8,
      "outputs": [
        {
          "output_type": "stream",
          "name": "stdout",
          "text": [
            "Posterior P(Defective | HighReturn): 0.0000\n"
          ]
        }
      ]
    },
    {
      "cell_type": "code",
      "source": [
        "#Multi-Feature Risk Scoring\n",
        "\n",
        "# Create 'LowRating' feature\n",
        "df_modified['LowRating'] = df_modified['ReviewRating'] <= 2\n",
        "\n",
        "# Calculate conditional probabilities\n",
        "P_low_rating_given_defective = df_modified[df_modified['Defective'] == 1]['LowRating'].mean()\n",
        "P_complaint_given_defective = df_modified[df_modified['Defective'] == 1]['HasComplaint'].mean()"
      ],
      "metadata": {
        "id": "WP_bsa7wh_zX"
      },
      "execution_count": 9,
      "outputs": []
    },
    {
      "cell_type": "code",
      "source": [
        "# Risk Score Calculation\n",
        "def risk_score(row):\n",
        "    score = P_defective\n",
        "    score *= P_high_return_given_defective if row['HighReturn'] == 1 else (1 - P_high_return_given_defective)\n",
        "    score *= P_low_rating_given_defective if row['LowRating'] else (1 - P_low_rating_given_defective)\n",
        "    score *= P_complaint_given_defective if row['HasComplaint'] else (1 - P_complaint_given_defective)\n",
        "    return score\n",
        "\n",
        "df_modified['RiskScore'] = df_modified.apply(risk_score, axis=1)"
      ],
      "metadata": {
        "id": "wVfco4WViADb"
      },
      "execution_count": 10,
      "outputs": []
    },
    {
      "cell_type": "code",
      "source": [
        "# Identify Top 10 High-Risk Products\n",
        "top_10_risk = df_modified.sort_values(by='RiskScore', ascending=False).head(10)\n",
        "print(\"\\nTop 10 High-Risk Products:\\n\")\n",
        "print(top_10_risk[['Defective', 'HighReturn', 'ReviewRating', 'HasComplaint', 'RiskScore']])"
      ],
      "metadata": {
        "colab": {
          "base_uri": "https://localhost:8080/"
        },
        "id": "pCUtlUBpiAKZ",
        "outputId": "494791ab-ec27-4276-cf9f-5560a7785d5e"
      },
      "execution_count": 11,
      "outputs": [
        {
          "output_type": "stream",
          "name": "stdout",
          "text": [
            "\n",
            "Top 10 High-Risk Products:\n",
            "\n",
            "    Defective  HighReturn  ReviewRating  HasComplaint  RiskScore\n",
            "1           1           0             4         False       0.04\n",
            "3           0           0             4         False       0.04\n",
            "14          0           0             5         False       0.04\n",
            "17          0           0             5         False       0.04\n",
            "11          1           0             4         False       0.04\n",
            "38          0           0             4         False       0.04\n",
            "45          0           0             5         False       0.04\n",
            "44          0           0             4         False       0.04\n",
            "43          0           0             5         False       0.04\n",
            "33          0           0             5         False       0.04\n"
          ]
        }
      ]
    },
    {
      "cell_type": "code",
      "source": [
        "sample_product = {\n",
        "    'HighReturn': 1,\n",
        "    'ReviewRating': 1.5,\n",
        "    'HasComplaint': True,\n",
        "    'VerifiedPurchase': False,\n",
        "    'LowRating': 1.5 <= 2  # This is True, since 1.5 <= 2\n",
        "}"
      ],
      "metadata": {
        "id": "aFezSujziAQu"
      },
      "execution_count": 12,
      "outputs": []
    },
    {
      "cell_type": "code",
      "source": [
        "# Calculate risk score for sample product\n",
        "sample_risk_score = P_defective\n",
        "sample_risk_score *= P_high_return_given_defective if sample_product['HighReturn'] == 1 else (1 - P_high_return_given_defective)\n",
        "sample_risk_score *= P_low_rating_given_defective if sample_product['LowRating'] else (1 - P_low_rating_given_defective)\n",
        "sample_risk_score *= P_complaint_given_defective if sample_product['HasComplaint'] else (1 - P_complaint_given_defective)\n",
        "\n",
        "print(f\"\\nRisk Score for sample product: {sample_risk_score:.6f}\")"
      ],
      "metadata": {
        "colab": {
          "base_uri": "https://localhost:8080/"
        },
        "id": "OLd5KaWIiAWj",
        "outputId": "d559510b-e564-40e4-e27c-9dee5392325a"
      },
      "execution_count": 13,
      "outputs": [
        {
          "output_type": "stream",
          "name": "stdout",
          "text": [
            "\n",
            "Risk Score for sample product: 0.000000\n"
          ]
        }
      ]
    },
    {
      "cell_type": "code",
      "source": [
        "# Recall recommendation (Threshold Example: 5%)\n",
        "if sample_risk_score > 0.05:\n",
        "    print(\"Recommendation: Recall Suggested.\")\n",
        "else:\n",
        "    print(\"Recommendation: No Recall Needed Yet.\")"
      ],
      "metadata": {
        "colab": {
          "base_uri": "https://localhost:8080/"
        },
        "id": "j1FQH9AfiAb7",
        "outputId": "ddbec97f-26be-40d3-bba5-e5314a7fc49a"
      },
      "execution_count": 14,
      "outputs": [
        {
          "output_type": "stream",
          "name": "stdout",
          "text": [
            "Recommendation: No Recall Needed Yet.\n"
          ]
        }
      ]
    },
    {
      "cell_type": "code",
      "source": [
        "# Suggest Additional Data\n",
        "print(\"\\nAdditional Data That Would Improve Analysis:\")\n",
        "print(\"- Supplier Information\")\n",
        "print(\"- Product Category\")\n",
        "print(\"- Customer Demographics\")\n",
        "print(\"- Time-based Return Patterns\")"
      ],
      "metadata": {
        "colab": {
          "base_uri": "https://localhost:8080/"
        },
        "id": "a94A80TIh5FC",
        "outputId": "229b2d44-ec56-4655-b756-68d3fb8d7b2b"
      },
      "execution_count": 15,
      "outputs": [
        {
          "output_type": "stream",
          "name": "stdout",
          "text": [
            "\n",
            "Additional Data That Would Improve Analysis:\n",
            "- Supplier Information\n",
            "- Product Category\n",
            "- Customer Demographics\n",
            "- Time-based Return Patterns\n"
          ]
        }
      ]
    }
  ]
}